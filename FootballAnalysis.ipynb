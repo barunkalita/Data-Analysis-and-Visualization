{
 "cells": [
  {
   "cell_type": "markdown",
   "metadata": {},
   "source": [
    "# Data analysis and visualization: English Premier League & UEFA Champions League Winner  2018-19"
   ]
  },
  {
   "cell_type": "markdown",
   "metadata": {},
   "source": [
    "* **Physical attribute**: Comparing the stamina of players from both the teams against various paramters like BMI, 'Overall' to ascertain the readiness of the players for a long season.. \n",
    "* **Cost effectiveness** Comparing the Wages for the players to assess how much money was spent in wages to acheive the results.\n",
    "* **Home talent** Ratio of home and foreign players in the respective team to assess how much importance do the club give to groom players for national team\n",
    "* **Playing Attribute** Positioning and composure of the players from both the teams."
   ]
  },
  {
   "cell_type": "code",
   "execution_count": 1,
   "metadata": {},
   "outputs": [],
   "source": [
    "# importing required libraries\n",
    "import numpy as np\n",
    "import pandas as pd\n",
    "import matplotlib.pyplot as plt\n",
    "import seaborn as sns\n",
    "%matplotlib inline"
   ]
  },
  {
   "cell_type": "code",
   "execution_count": 2,
   "metadata": {},
   "outputs": [],
   "source": [
    "#reading the data from current working directory\n",
    "df= pd.read_csv(\"Data.csv\")"
   ]
  },
  {
   "cell_type": "code",
   "execution_count": 3,
   "metadata": {},
   "outputs": [
    {
     "data": {
      "text/html": [
       "<div>\n",
       "<style scoped>\n",
       "    .dataframe tbody tr th:only-of-type {\n",
       "        vertical-align: middle;\n",
       "    }\n",
       "\n",
       "    .dataframe tbody tr th {\n",
       "        vertical-align: top;\n",
       "    }\n",
       "\n",
       "    .dataframe thead th {\n",
       "        text-align: right;\n",
       "    }\n",
       "</style>\n",
       "<table border=\"1\" class=\"dataframe\">\n",
       "  <thead>\n",
       "    <tr style=\"text-align: right;\">\n",
       "      <th></th>\n",
       "      <th>Unnamed: 0</th>\n",
       "      <th>ID</th>\n",
       "      <th>Name</th>\n",
       "      <th>Age</th>\n",
       "      <th>Photo</th>\n",
       "      <th>Nationality</th>\n",
       "      <th>Flag</th>\n",
       "      <th>Overall</th>\n",
       "      <th>Potential</th>\n",
       "      <th>Club</th>\n",
       "      <th>...</th>\n",
       "      <th>Composure</th>\n",
       "      <th>Marking</th>\n",
       "      <th>StandingTackle</th>\n",
       "      <th>SlidingTackle</th>\n",
       "      <th>GKDiving</th>\n",
       "      <th>GKHandling</th>\n",
       "      <th>GKKicking</th>\n",
       "      <th>GKPositioning</th>\n",
       "      <th>GKReflexes</th>\n",
       "      <th>Release Clause</th>\n",
       "    </tr>\n",
       "  </thead>\n",
       "  <tbody>\n",
       "    <tr>\n",
       "      <th>0</th>\n",
       "      <td>0</td>\n",
       "      <td>158023</td>\n",
       "      <td>L. Messi</td>\n",
       "      <td>31</td>\n",
       "      <td>https://cdn.sofifa.org/players/4/19/158023.png</td>\n",
       "      <td>Argentina</td>\n",
       "      <td>https://cdn.sofifa.org/flags/52.png</td>\n",
       "      <td>94</td>\n",
       "      <td>94</td>\n",
       "      <td>FC Barcelona</td>\n",
       "      <td>...</td>\n",
       "      <td>96.0</td>\n",
       "      <td>33.0</td>\n",
       "      <td>28.0</td>\n",
       "      <td>26.0</td>\n",
       "      <td>6.0</td>\n",
       "      <td>11.0</td>\n",
       "      <td>15.0</td>\n",
       "      <td>14.0</td>\n",
       "      <td>8.0</td>\n",
       "      <td>€226.5M</td>\n",
       "    </tr>\n",
       "    <tr>\n",
       "      <th>1</th>\n",
       "      <td>1</td>\n",
       "      <td>20801</td>\n",
       "      <td>Cristiano Ronaldo</td>\n",
       "      <td>33</td>\n",
       "      <td>https://cdn.sofifa.org/players/4/19/20801.png</td>\n",
       "      <td>Portugal</td>\n",
       "      <td>https://cdn.sofifa.org/flags/38.png</td>\n",
       "      <td>94</td>\n",
       "      <td>94</td>\n",
       "      <td>Juventus</td>\n",
       "      <td>...</td>\n",
       "      <td>95.0</td>\n",
       "      <td>28.0</td>\n",
       "      <td>31.0</td>\n",
       "      <td>23.0</td>\n",
       "      <td>7.0</td>\n",
       "      <td>11.0</td>\n",
       "      <td>15.0</td>\n",
       "      <td>14.0</td>\n",
       "      <td>11.0</td>\n",
       "      <td>€127.1M</td>\n",
       "    </tr>\n",
       "    <tr>\n",
       "      <th>2</th>\n",
       "      <td>2</td>\n",
       "      <td>190871</td>\n",
       "      <td>Neymar Jr</td>\n",
       "      <td>26</td>\n",
       "      <td>https://cdn.sofifa.org/players/4/19/190871.png</td>\n",
       "      <td>Brazil</td>\n",
       "      <td>https://cdn.sofifa.org/flags/54.png</td>\n",
       "      <td>92</td>\n",
       "      <td>93</td>\n",
       "      <td>Paris Saint-Germain</td>\n",
       "      <td>...</td>\n",
       "      <td>94.0</td>\n",
       "      <td>27.0</td>\n",
       "      <td>24.0</td>\n",
       "      <td>33.0</td>\n",
       "      <td>9.0</td>\n",
       "      <td>9.0</td>\n",
       "      <td>15.0</td>\n",
       "      <td>15.0</td>\n",
       "      <td>11.0</td>\n",
       "      <td>€228.1M</td>\n",
       "    </tr>\n",
       "  </tbody>\n",
       "</table>\n",
       "<p>3 rows × 89 columns</p>\n",
       "</div>"
      ],
      "text/plain": [
       "   Unnamed: 0      ID               Name  Age  \\\n",
       "0           0  158023           L. Messi   31   \n",
       "1           1   20801  Cristiano Ronaldo   33   \n",
       "2           2  190871          Neymar Jr   26   \n",
       "\n",
       "                                            Photo Nationality  \\\n",
       "0  https://cdn.sofifa.org/players/4/19/158023.png   Argentina   \n",
       "1   https://cdn.sofifa.org/players/4/19/20801.png    Portugal   \n",
       "2  https://cdn.sofifa.org/players/4/19/190871.png      Brazil   \n",
       "\n",
       "                                  Flag  Overall  Potential  \\\n",
       "0  https://cdn.sofifa.org/flags/52.png       94         94   \n",
       "1  https://cdn.sofifa.org/flags/38.png       94         94   \n",
       "2  https://cdn.sofifa.org/flags/54.png       92         93   \n",
       "\n",
       "                  Club      ...       Composure Marking StandingTackle  \\\n",
       "0         FC Barcelona      ...            96.0    33.0           28.0   \n",
       "1             Juventus      ...            95.0    28.0           31.0   \n",
       "2  Paris Saint-Germain      ...            94.0    27.0           24.0   \n",
       "\n",
       "   SlidingTackle GKDiving  GKHandling  GKKicking  GKPositioning GKReflexes  \\\n",
       "0           26.0      6.0        11.0       15.0           14.0        8.0   \n",
       "1           23.0      7.0        11.0       15.0           14.0       11.0   \n",
       "2           33.0      9.0         9.0       15.0           15.0       11.0   \n",
       "\n",
       "  Release Clause  \n",
       "0        €226.5M  \n",
       "1        €127.1M  \n",
       "2        €228.1M  \n",
       "\n",
       "[3 rows x 89 columns]"
      ]
     },
     "execution_count": 3,
     "metadata": {},
     "output_type": "execute_result"
    }
   ],
   "source": [
    "df.head(3)"
   ]
  },
  {
   "cell_type": "markdown",
   "metadata": {},
   "source": []
  },
  {
   "cell_type": "code",
   "execution_count": 4,
   "metadata": {},
   "outputs": [
    {
     "data": {
      "text/plain": [
       "(18207, 89)"
      ]
     },
     "execution_count": 4,
     "metadata": {},
     "output_type": "execute_result"
    }
   ],
   "source": [
    "#Checking the number of rows and columns in the dataframe\n",
    "df.shape"
   ]
  },
  {
   "cell_type": "markdown",
   "metadata": {},
   "source": [
    "## Selecting only Liverpool and Man City player from the whole dataframe"
   ]
  },
  {
   "cell_type": "code",
   "execution_count": 5,
   "metadata": {},
   "outputs": [],
   "source": [
    "\n",
    "df= df[(df['Club']== 'Liverpool') |(df['Club']== 'Manchester City')]"
   ]
  },
  {
   "cell_type": "markdown",
   "metadata": {},
   "source": []
  },
  {
   "cell_type": "code",
   "execution_count": 6,
   "metadata": {},
   "outputs": [],
   "source": [
    "#Modifying name for convinience\n",
    "df['Club'].replace('Manchester City','Man City',inplace=True)"
   ]
  },
  {
   "cell_type": "code",
   "execution_count": 7,
   "metadata": {},
   "outputs": [
    {
     "data": {
      "text/plain": [
       "Index(['Unnamed: 0', 'ID', 'Name', 'Age', 'Photo', 'Nationality', 'Flag',\n",
       "       'Overall', 'Potential', 'Club', 'Club Logo', 'Value', 'Wage', 'Special',\n",
       "       'Preferred Foot', 'International Reputation', 'Weak Foot',\n",
       "       'Skill Moves', 'Work Rate', 'Body Type', 'Real Face', 'Position',\n",
       "       'Jersey Number', 'Joined', 'Loaned From', 'Contract Valid Until',\n",
       "       'Height', 'Weight', 'LS', 'ST', 'RS', 'LW', 'LF', 'CF', 'RF', 'RW',\n",
       "       'LAM', 'CAM', 'RAM', 'LM', 'LCM', 'CM', 'RCM', 'RM', 'LWB', 'LDM',\n",
       "       'CDM', 'RDM', 'RWB', 'LB', 'LCB', 'CB', 'RCB', 'RB', 'Crossing',\n",
       "       'Finishing', 'HeadingAccuracy', 'ShortPassing', 'Volleys', 'Dribbling',\n",
       "       'Curve', 'FKAccuracy', 'LongPassing', 'BallControl', 'Acceleration',\n",
       "       'SprintSpeed', 'Agility', 'Reactions', 'Balance', 'ShotPower',\n",
       "       'Jumping', 'Stamina', 'Strength', 'LongShots', 'Aggression',\n",
       "       'Interceptions', 'Positioning', 'Vision', 'Penalties', 'Composure',\n",
       "       'Marking', 'StandingTackle', 'SlidingTackle', 'GKDiving', 'GKHandling',\n",
       "       'GKKicking', 'GKPositioning', 'GKReflexes', 'Release Clause'],\n",
       "      dtype='object')"
      ]
     },
     "execution_count": 7,
     "metadata": {},
     "output_type": "execute_result"
    }
   ],
   "source": [
    "#Checking the columns names in dataframe to determine which columns will be required to achieve the objective of the project\n",
    "df.columns"
   ]
  },
  {
   "cell_type": "markdown",
   "metadata": {},
   "source": [
    "## Removing unnecessary columns and trimming the dataset"
   ]
  },
  {
   "cell_type": "code",
   "execution_count": 8,
   "metadata": {},
   "outputs": [
    {
     "data": {
      "text/html": [
       "<div>\n",
       "<style scoped>\n",
       "    .dataframe tbody tr th:only-of-type {\n",
       "        vertical-align: middle;\n",
       "    }\n",
       "\n",
       "    .dataframe tbody tr th {\n",
       "        vertical-align: top;\n",
       "    }\n",
       "\n",
       "    .dataframe thead th {\n",
       "        text-align: right;\n",
       "    }\n",
       "</style>\n",
       "<table border=\"1\" class=\"dataframe\">\n",
       "  <thead>\n",
       "    <tr style=\"text-align: right;\">\n",
       "      <th></th>\n",
       "      <th>Name</th>\n",
       "      <th>Age</th>\n",
       "      <th>Nationality</th>\n",
       "      <th>Overall</th>\n",
       "      <th>Club</th>\n",
       "      <th>Value</th>\n",
       "      <th>Wage</th>\n",
       "      <th>International Reputation</th>\n",
       "      <th>Weak Foot</th>\n",
       "      <th>Position</th>\n",
       "      <th>Height</th>\n",
       "      <th>Weight</th>\n",
       "      <th>Stamina</th>\n",
       "      <th>Strength</th>\n",
       "      <th>Positioning</th>\n",
       "      <th>Composure</th>\n",
       "    </tr>\n",
       "  </thead>\n",
       "  <tbody>\n",
       "    <tr>\n",
       "      <th>4</th>\n",
       "      <td>K. De Bruyne</td>\n",
       "      <td>27</td>\n",
       "      <td>Belgium</td>\n",
       "      <td>91</td>\n",
       "      <td>Man City</td>\n",
       "      <td>€102M</td>\n",
       "      <td>€355K</td>\n",
       "      <td>4.0</td>\n",
       "      <td>5.0</td>\n",
       "      <td>RCM</td>\n",
       "      <td>5'11</td>\n",
       "      <td>154lbs</td>\n",
       "      <td>90.0</td>\n",
       "      <td>75.0</td>\n",
       "      <td>87.0</td>\n",
       "      <td>88.0</td>\n",
       "    </tr>\n",
       "    <tr>\n",
       "      <th>13</th>\n",
       "      <td>David Silva</td>\n",
       "      <td>32</td>\n",
       "      <td>Spain</td>\n",
       "      <td>90</td>\n",
       "      <td>Man City</td>\n",
       "      <td>€60M</td>\n",
       "      <td>€285K</td>\n",
       "      <td>4.0</td>\n",
       "      <td>2.0</td>\n",
       "      <td>LCM</td>\n",
       "      <td>5'8</td>\n",
       "      <td>148lbs</td>\n",
       "      <td>78.0</td>\n",
       "      <td>52.0</td>\n",
       "      <td>89.0</td>\n",
       "      <td>93.0</td>\n",
       "    </tr>\n",
       "    <tr>\n",
       "      <th>23</th>\n",
       "      <td>S. Agüero</td>\n",
       "      <td>30</td>\n",
       "      <td>Argentina</td>\n",
       "      <td>89</td>\n",
       "      <td>Man City</td>\n",
       "      <td>€64.5M</td>\n",
       "      <td>€300K</td>\n",
       "      <td>4.0</td>\n",
       "      <td>4.0</td>\n",
       "      <td>ST</td>\n",
       "      <td>5'8</td>\n",
       "      <td>154lbs</td>\n",
       "      <td>76.0</td>\n",
       "      <td>73.0</td>\n",
       "      <td>92.0</td>\n",
       "      <td>90.0</td>\n",
       "    </tr>\n",
       "    <tr>\n",
       "      <th>26</th>\n",
       "      <td>M. Salah</td>\n",
       "      <td>26</td>\n",
       "      <td>Egypt</td>\n",
       "      <td>88</td>\n",
       "      <td>Liverpool</td>\n",
       "      <td>€69.5M</td>\n",
       "      <td>€255K</td>\n",
       "      <td>3.0</td>\n",
       "      <td>3.0</td>\n",
       "      <td>RM</td>\n",
       "      <td>5'9</td>\n",
       "      <td>157lbs</td>\n",
       "      <td>84.0</td>\n",
       "      <td>70.0</td>\n",
       "      <td>90.0</td>\n",
       "      <td>91.0</td>\n",
       "    </tr>\n",
       "    <tr>\n",
       "      <th>55</th>\n",
       "      <td>L. Sané</td>\n",
       "      <td>22</td>\n",
       "      <td>Germany</td>\n",
       "      <td>86</td>\n",
       "      <td>Man City</td>\n",
       "      <td>€61M</td>\n",
       "      <td>€195K</td>\n",
       "      <td>2.0</td>\n",
       "      <td>3.0</td>\n",
       "      <td>LW</td>\n",
       "      <td>6'0</td>\n",
       "      <td>165lbs</td>\n",
       "      <td>79.0</td>\n",
       "      <td>70.0</td>\n",
       "      <td>84.0</td>\n",
       "      <td>78.0</td>\n",
       "    </tr>\n",
       "  </tbody>\n",
       "</table>\n",
       "</div>"
      ],
      "text/plain": [
       "            Name  Age Nationality  Overall       Club   Value   Wage  \\\n",
       "4   K. De Bruyne   27     Belgium       91   Man City   €102M  €355K   \n",
       "13   David Silva   32       Spain       90   Man City    €60M  €285K   \n",
       "23     S. Agüero   30   Argentina       89   Man City  €64.5M  €300K   \n",
       "26      M. Salah   26       Egypt       88  Liverpool  €69.5M  €255K   \n",
       "55       L. Sané   22     Germany       86   Man City    €61M  €195K   \n",
       "\n",
       "    International Reputation  Weak Foot Position Height  Weight  Stamina  \\\n",
       "4                        4.0        5.0      RCM   5'11  154lbs     90.0   \n",
       "13                       4.0        2.0      LCM    5'8  148lbs     78.0   \n",
       "23                       4.0        4.0       ST    5'8  154lbs     76.0   \n",
       "26                       3.0        3.0       RM    5'9  157lbs     84.0   \n",
       "55                       2.0        3.0       LW    6'0  165lbs     79.0   \n",
       "\n",
       "    Strength  Positioning  Composure  \n",
       "4       75.0         87.0       88.0  \n",
       "13      52.0         89.0       93.0  \n",
       "23      73.0         92.0       90.0  \n",
       "26      70.0         90.0       91.0  \n",
       "55      70.0         84.0       78.0  "
      ]
     },
     "execution_count": 8,
     "metadata": {},
     "output_type": "execute_result"
    }
   ],
   "source": [
    "df.drop(['Unnamed: 0', 'ID','Flag','Club Logo','Photo','Special','Body Type','Real Face','Jersey Number','Joined', 'Loaned From','Contract Valid Until','LS', 'ST', 'RS', 'LW','LF', 'CF', 'RF', 'RW', 'LAM', 'CAM', 'RAM', 'LM', 'LCM', 'CM','RCM','RM', 'LWB', 'LDM', 'CDM', 'RDM', 'RWB', 'LB', 'LCB', 'CB', 'RCB', 'RB','Release Clause','Potential','Skill Moves','Crossing','Finishing', 'HeadingAccuracy', 'ShortPassing', 'Volleys', 'Dribbling','Curve', 'FKAccuracy', 'LongPassing', 'BallControl', 'Acceleration','SprintSpeed', 'Agility', 'Reactions', 'Balance', 'ShotPower',\n",
    "'Jumping', 'LongShots', 'Aggression','Interceptions','Vision', 'Work Rate','Penalties','Marking', 'StandingTackle', 'SlidingTackle','Preferred Foot','GKDiving',\n",
    "       'GKHandling', 'GKKicking', 'GKPositioning', 'GKReflexes'],axis=1,inplace =True)\n",
    "df.head(5)"
   ]
  },
  {
   "cell_type": "code",
   "execution_count": 9,
   "metadata": {},
   "outputs": [
    {
     "data": {
      "text/plain": [
       "(66, 16)"
      ]
     },
     "execution_count": 9,
     "metadata": {},
     "output_type": "execute_result"
    }
   ],
   "source": [
    "#checking rows and columns after dropping a few columns\n",
    "df.shape"
   ]
  },
  {
   "cell_type": "markdown",
   "metadata": {},
   "source": []
  },
  {
   "cell_type": "markdown",
   "metadata": {},
   "source": [
    "# Feature Engineering"
   ]
  },
  {
   "cell_type": "markdown",
   "metadata": {},
   "source": [
    "## Checking the types of position"
   ]
  },
  {
   "cell_type": "code",
   "execution_count": 10,
   "metadata": {},
   "outputs": [
    {
     "data": {
      "text/plain": [
       "array(['RCM', 'LCM', 'ST', 'RM', 'LW', 'RW', 'GK', 'LM', 'LCB', 'CAM',\n",
       "       'CDM', 'CB', 'RB', 'CM', 'RCB', 'LB'], dtype=object)"
      ]
     },
     "execution_count": 10,
     "metadata": {},
     "output_type": "execute_result"
    }
   ],
   "source": [
    "df['Position'].unique()"
   ]
  },
  {
   "cell_type": "code",
   "execution_count": 11,
   "metadata": {},
   "outputs": [],
   "source": [
    "#Grouping players collectively into three position\n",
    "df['Position'].replace(['RCM','LCM','RM','LW','RW','LM','CAM','CDM','CM'],'Midfielder',inplace=True)\n",
    "df['Position'].replace(['CB','RB','RCB','LB','LCB','GK'],'Defender',inplace=True) # Clubbing GK along with defenders\n",
    "df['Position'].replace('ST','Striker',inplace=True)\n"
   ]
  },
  {
   "cell_type": "code",
   "execution_count": 12,
   "metadata": {},
   "outputs": [
    {
     "data": {
      "text/plain": [
       "array(['Midfielder', 'Striker', 'Defender'], dtype=object)"
      ]
     },
     "execution_count": 12,
     "metadata": {},
     "output_type": "execute_result"
    }
   ],
   "source": [
    "df['Position'].unique() #cross-checking "
   ]
  },
  {
   "cell_type": "code",
   "execution_count": 13,
   "metadata": {},
   "outputs": [
    {
     "data": {
      "text/plain": [
       "<matplotlib.axes._subplots.AxesSubplot at 0x1c43d375550>"
      ]
     },
     "execution_count": 13,
     "metadata": {},
     "output_type": "execute_result"
    },
    {
     "data": {
      "image/png": "[encoded data removed]",
      "text/plain": [
       "<Figure size 432x288 with 1 Axes>"
      ]
     },
     "metadata": {
      "needs_background": "light"
     },
     "output_type": "display_data"
    }
   ],
   "source": [
    "# countplot for number of players by position\n",
    "sns.countplot(x='Position',data=df)"
   ]
  },
  {
   "cell_type": "markdown",
   "metadata": {},
   "source": [
    "### Modifying wage and weight columns \n"
   ]
  },
  {
   "cell_type": "markdown",
   "metadata": {},
   "source": [
    "### Checking data type before initiating modification of the columns\n"
   ]
  },
  {
   "cell_type": "code",
   "execution_count": 14,
   "metadata": {},
   "outputs": [
    {
     "data": {
      "text/plain": [
       "Name                         object\n",
       "Age                           int64\n",
       "Nationality                  object\n",
       "Overall                       int64\n",
       "Club                         object\n",
       "Value                        object\n",
       "Wage                         object\n",
       "International Reputation    float64\n",
       "Weak Foot                   float64\n",
       "Position                     object\n",
       "Height                       object\n",
       "Weight                       object\n",
       "Stamina                     float64\n",
       "Strength                    float64\n",
       "Positioning                 float64\n",
       "Composure                   float64\n",
       "dtype: object"
      ]
     },
     "execution_count": 14,
     "metadata": {},
     "output_type": "execute_result"
    }
   ],
   "source": [
    "df.dtypes"
   ]
  },
  {
   "cell_type": "markdown",
   "metadata": {},
   "source": [
    "### Height and Weight are of object type which is in accordance to our requirement for now so as to perform string operation "
   ]
  },
  {
   "cell_type": "code",
   "execution_count": 15,
   "metadata": {},
   "outputs": [
    {
     "data": {
      "text/html": [
       "<div>\n",
       "<style scoped>\n",
       "    .dataframe tbody tr th:only-of-type {\n",
       "        vertical-align: middle;\n",
       "    }\n",
       "\n",
       "    .dataframe tbody tr th {\n",
       "        vertical-align: top;\n",
       "    }\n",
       "\n",
       "    .dataframe thead th {\n",
       "        text-align: right;\n",
       "    }\n",
       "</style>\n",
       "<table border=\"1\" class=\"dataframe\">\n",
       "  <thead>\n",
       "    <tr style=\"text-align: right;\">\n",
       "      <th></th>\n",
       "      <th>Name</th>\n",
       "      <th>Age</th>\n",
       "      <th>Nationality</th>\n",
       "      <th>Overall</th>\n",
       "      <th>Club</th>\n",
       "      <th>Value</th>\n",
       "      <th>Wage_Euro</th>\n",
       "      <th>International Reputation</th>\n",
       "      <th>Weak Foot</th>\n",
       "      <th>Position</th>\n",
       "      <th>Height</th>\n",
       "      <th>Stamina</th>\n",
       "      <th>Strength</th>\n",
       "      <th>Positioning</th>\n",
       "      <th>Composure</th>\n",
       "      <th>Weight_kg</th>\n",
       "    </tr>\n",
       "  </thead>\n",
       "  <tbody>\n",
       "    <tr>\n",
       "      <th>4</th>\n",
       "      <td>K. De Bruyne</td>\n",
       "      <td>27</td>\n",
       "      <td>Belgium</td>\n",
       "      <td>91</td>\n",
       "      <td>Man City</td>\n",
       "      <td>€102M</td>\n",
       "      <td>355000.0</td>\n",
       "      <td>4.0</td>\n",
       "      <td>5.0</td>\n",
       "      <td>Midfielder</td>\n",
       "      <td>5'11</td>\n",
       "      <td>90.0</td>\n",
       "      <td>75.0</td>\n",
       "      <td>87.0</td>\n",
       "      <td>88.0</td>\n",
       "      <td>69.853168</td>\n",
       "    </tr>\n",
       "    <tr>\n",
       "      <th>13</th>\n",
       "      <td>David Silva</td>\n",
       "      <td>32</td>\n",
       "      <td>Spain</td>\n",
       "      <td>90</td>\n",
       "      <td>Man City</td>\n",
       "      <td>€60M</td>\n",
       "      <td>285000.0</td>\n",
       "      <td>4.0</td>\n",
       "      <td>2.0</td>\n",
       "      <td>Midfielder</td>\n",
       "      <td>5'8</td>\n",
       "      <td>78.0</td>\n",
       "      <td>52.0</td>\n",
       "      <td>89.0</td>\n",
       "      <td>93.0</td>\n",
       "      <td>67.131616</td>\n",
       "    </tr>\n",
       "    <tr>\n",
       "      <th>23</th>\n",
       "      <td>S. Agüero</td>\n",
       "      <td>30</td>\n",
       "      <td>Argentina</td>\n",
       "      <td>89</td>\n",
       "      <td>Man City</td>\n",
       "      <td>€64.5M</td>\n",
       "      <td>300000.0</td>\n",
       "      <td>4.0</td>\n",
       "      <td>4.0</td>\n",
       "      <td>Striker</td>\n",
       "      <td>5'8</td>\n",
       "      <td>76.0</td>\n",
       "      <td>73.0</td>\n",
       "      <td>92.0</td>\n",
       "      <td>90.0</td>\n",
       "      <td>69.853168</td>\n",
       "    </tr>\n",
       "  </tbody>\n",
       "</table>\n",
       "</div>"
      ],
      "text/plain": [
       "            Name  Age Nationality  Overall      Club   Value  Wage_Euro  \\\n",
       "4   K. De Bruyne   27     Belgium       91  Man City   €102M   355000.0   \n",
       "13   David Silva   32       Spain       90  Man City    €60M   285000.0   \n",
       "23     S. Agüero   30   Argentina       89  Man City  €64.5M   300000.0   \n",
       "\n",
       "    International Reputation  Weak Foot    Position Height  Stamina  Strength  \\\n",
       "4                        4.0        5.0  Midfielder   5'11     90.0      75.0   \n",
       "13                       4.0        2.0  Midfielder    5'8     78.0      52.0   \n",
       "23                       4.0        4.0     Striker    5'8     76.0      73.0   \n",
       "\n",
       "    Positioning  Composure  Weight_kg  \n",
       "4          87.0       88.0  69.853168  \n",
       "13         89.0       93.0  67.131616  \n",
       "23         92.0       90.0  69.853168  "
      ]
     },
     "execution_count": 15,
     "metadata": {},
     "output_type": "execute_result"
    }
   ],
   "source": [
    "df['Wage'] =df['Wage'].apply(lambda x: x.strip('€'))\n",
    "df['Wage']= df['Wage'].apply(lambda x: x.replace('K', '000'))\n",
    "df.rename(columns={'Wage' :'Wage_Euro'}, inplace= True)\n",
    "df['Wage_Euro'] = df.Wage_Euro.astype(float)\n",
    "\n",
    "df['Weight'] =df['Weight'].apply(lambda x: x.strip('lbs'))\n",
    "df.rename(columns={'Weight' :'Weight_lbs' }, inplace= True)\n",
    "\n",
    "#Changing from object to float type\n",
    "df['Weight_lbs'] = df.Weight_lbs.astype(float)    \n",
    "\n",
    "\n",
    "#pounds to kg\n",
    "df['Weight_kg'] = df['Weight_lbs'].apply(lambda x: x*0.453592)  \n",
    "df.drop(['Weight_lbs'], axis = 1, inplace= True)\n",
    "\n",
    "df.head(3)"
   ]
  },
  {
   "cell_type": "markdown",
   "metadata": {},
   "source": [
    "## Converting unit of Height from feet-inches to metres  for BMI calculation"
   ]
  },
  {
   "cell_type": "code",
   "execution_count": 16,
   "metadata": {},
   "outputs": [],
   "source": [
    "\n",
    "df[['Feet','Inch']] = df.Height.str.split(\"'\",expand=True,) \n",
    "df.head(3)\n",
    "df['Inch'] = df.Inch.astype(float)\n",
    "df['Feet'] = df.Feet.astype(float)\n",
    "\n",
    "#feet to inches\n",
    "df['Feet'] = df['Feet'].apply(lambda x: x*12) \n",
    "\n",
    "#adding the columns whose values are in inches\n",
    "df['Height_inches']=df['Feet'] + df['Inch']\n",
    "\n",
    "# inches to metres\n",
    "df['Height_metres'] = df['Height_inches'].apply(lambda x: x*0.0254) "
   ]
  },
  {
   "cell_type": "code",
   "execution_count": 17,
   "metadata": {
    "scrolled": true
   },
   "outputs": [
    {
     "data": {
      "text/plain": [
       "Name                         object\n",
       "Age                           int64\n",
       "Nationality                  object\n",
       "Overall                       int64\n",
       "Club                         object\n",
       "Value                        object\n",
       "Wage_Euro                   float64\n",
       "International Reputation    float64\n",
       "Weak Foot                   float64\n",
       "Position                     object\n",
       "Height                       object\n",
       "Stamina                     float64\n",
       "Strength                    float64\n",
       "Positioning                 float64\n",
       "Composure                   float64\n",
       "Weight_kg                   float64\n",
       "Feet                        float64\n",
       "Inch                        float64\n",
       "Height_inches               float64\n",
       "Height_metres               float64\n",
       "dtype: object"
      ]
     },
     "execution_count": 17,
     "metadata": {},
     "output_type": "execute_result"
    }
   ],
   "source": [
    "df.dtypes"
   ]
  },
  {
   "cell_type": "markdown",
   "metadata": {},
   "source": [
    "### Dropping Feet, Inches, Height_inches since Height_metres have been created"
   ]
  },
  {
   "cell_type": "code",
   "execution_count": 18,
   "metadata": {},
   "outputs": [],
   "source": [
    "df.drop(['Feet', 'Inch','Height_inches','Height'], axis = 1, inplace= True)"
   ]
  },
  {
   "cell_type": "markdown",
   "metadata": {},
   "source": [
    "### Calculating BMI"
   ]
  },
  {
   "cell_type": "code",
   "execution_count": 19,
   "metadata": {},
   "outputs": [
    {
     "data": {
      "text/html": [
       "<div>\n",
       "<style scoped>\n",
       "    .dataframe tbody tr th:only-of-type {\n",
       "        vertical-align: middle;\n",
       "    }\n",
       "\n",
       "    .dataframe tbody tr th {\n",
       "        vertical-align: top;\n",
       "    }\n",
       "\n",
       "    .dataframe thead th {\n",
       "        text-align: right;\n",
       "    }\n",
       "</style>\n",
       "<table border=\"1\" class=\"dataframe\">\n",
       "  <thead>\n",
       "    <tr style=\"text-align: right;\">\n",
       "      <th></th>\n",
       "      <th>Name</th>\n",
       "      <th>Age</th>\n",
       "      <th>Nationality</th>\n",
       "      <th>Overall</th>\n",
       "      <th>Club</th>\n",
       "      <th>Value</th>\n",
       "      <th>Wage_Euro</th>\n",
       "      <th>International Reputation</th>\n",
       "      <th>Weak Foot</th>\n",
       "      <th>Position</th>\n",
       "      <th>Stamina</th>\n",
       "      <th>Strength</th>\n",
       "      <th>Positioning</th>\n",
       "      <th>Composure</th>\n",
       "      <th>Weight_kg</th>\n",
       "      <th>Height_metres</th>\n",
       "      <th>BMI</th>\n",
       "    </tr>\n",
       "  </thead>\n",
       "  <tbody>\n",
       "    <tr>\n",
       "      <th>4</th>\n",
       "      <td>K. De Bruyne</td>\n",
       "      <td>27</td>\n",
       "      <td>Belgium</td>\n",
       "      <td>91</td>\n",
       "      <td>Man City</td>\n",
       "      <td>€102M</td>\n",
       "      <td>355000.0</td>\n",
       "      <td>4.0</td>\n",
       "      <td>5.0</td>\n",
       "      <td>Midfielder</td>\n",
       "      <td>90.0</td>\n",
       "      <td>75.0</td>\n",
       "      <td>87.0</td>\n",
       "      <td>88.0</td>\n",
       "      <td>69.853168</td>\n",
       "      <td>1.8034</td>\n",
       "      <td>21.478402</td>\n",
       "    </tr>\n",
       "    <tr>\n",
       "      <th>13</th>\n",
       "      <td>David Silva</td>\n",
       "      <td>32</td>\n",
       "      <td>Spain</td>\n",
       "      <td>90</td>\n",
       "      <td>Man City</td>\n",
       "      <td>€60M</td>\n",
       "      <td>285000.0</td>\n",
       "      <td>4.0</td>\n",
       "      <td>2.0</td>\n",
       "      <td>Midfielder</td>\n",
       "      <td>78.0</td>\n",
       "      <td>52.0</td>\n",
       "      <td>89.0</td>\n",
       "      <td>93.0</td>\n",
       "      <td>67.131616</td>\n",
       "      <td>1.7272</td>\n",
       "      <td>22.503074</td>\n",
       "    </tr>\n",
       "    <tr>\n",
       "      <th>23</th>\n",
       "      <td>S. Agüero</td>\n",
       "      <td>30</td>\n",
       "      <td>Argentina</td>\n",
       "      <td>89</td>\n",
       "      <td>Man City</td>\n",
       "      <td>€64.5M</td>\n",
       "      <td>300000.0</td>\n",
       "      <td>4.0</td>\n",
       "      <td>4.0</td>\n",
       "      <td>Striker</td>\n",
       "      <td>76.0</td>\n",
       "      <td>73.0</td>\n",
       "      <td>92.0</td>\n",
       "      <td>90.0</td>\n",
       "      <td>69.853168</td>\n",
       "      <td>1.7272</td>\n",
       "      <td>23.415360</td>\n",
       "    </tr>\n",
       "    <tr>\n",
       "      <th>26</th>\n",
       "      <td>M. Salah</td>\n",
       "      <td>26</td>\n",
       "      <td>Egypt</td>\n",
       "      <td>88</td>\n",
       "      <td>Liverpool</td>\n",
       "      <td>€69.5M</td>\n",
       "      <td>255000.0</td>\n",
       "      <td>3.0</td>\n",
       "      <td>3.0</td>\n",
       "      <td>Midfielder</td>\n",
       "      <td>84.0</td>\n",
       "      <td>70.0</td>\n",
       "      <td>90.0</td>\n",
       "      <td>91.0</td>\n",
       "      <td>71.213944</td>\n",
       "      <td>1.7526</td>\n",
       "      <td>23.184590</td>\n",
       "    </tr>\n",
       "    <tr>\n",
       "      <th>55</th>\n",
       "      <td>L. Sané</td>\n",
       "      <td>22</td>\n",
       "      <td>Germany</td>\n",
       "      <td>86</td>\n",
       "      <td>Man City</td>\n",
       "      <td>€61M</td>\n",
       "      <td>195000.0</td>\n",
       "      <td>2.0</td>\n",
       "      <td>3.0</td>\n",
       "      <td>Midfielder</td>\n",
       "      <td>79.0</td>\n",
       "      <td>70.0</td>\n",
       "      <td>84.0</td>\n",
       "      <td>78.0</td>\n",
       "      <td>74.842680</td>\n",
       "      <td>1.8288</td>\n",
       "      <td>22.377775</td>\n",
       "    </tr>\n",
       "  </tbody>\n",
       "</table>\n",
       "</div>"
      ],
      "text/plain": [
       "            Name  Age Nationality  Overall       Club   Value  Wage_Euro  \\\n",
       "4   K. De Bruyne   27     Belgium       91   Man City   €102M   355000.0   \n",
       "13   David Silva   32       Spain       90   Man City    €60M   285000.0   \n",
       "23     S. Agüero   30   Argentina       89   Man City  €64.5M   300000.0   \n",
       "26      M. Salah   26       Egypt       88  Liverpool  €69.5M   255000.0   \n",
       "55       L. Sané   22     Germany       86   Man City    €61M   195000.0   \n",
       "\n",
       "    International Reputation  Weak Foot    Position  Stamina  Strength  \\\n",
       "4                        4.0        5.0  Midfielder     90.0      75.0   \n",
       "13                       4.0        2.0  Midfielder     78.0      52.0   \n",
       "23                       4.0        4.0     Striker     76.0      73.0   \n",
       "26                       3.0        3.0  Midfielder     84.0      70.0   \n",
       "55                       2.0        3.0  Midfielder     79.0      70.0   \n",
       "\n",
       "    Positioning  Composure  Weight_kg  Height_metres        BMI  \n",
       "4          87.0       88.0  69.853168         1.8034  21.478402  \n",
       "13         89.0       93.0  67.131616         1.7272  22.503074  \n",
       "23         92.0       90.0  69.853168         1.7272  23.415360  \n",
       "26         90.0       91.0  71.213944         1.7526  23.184590  \n",
       "55         84.0       78.0  74.842680         1.8288  22.377775  "
      ]
     },
     "execution_count": 19,
     "metadata": {},
     "output_type": "execute_result"
    }
   ],
   "source": [
    "df['BMI']=df['Weight_kg']/ (df['Height_metres'] * df['Height_metres'])\n",
    "df.head()"
   ]
  },
  {
   "cell_type": "markdown",
   "metadata": {},
   "source": [
    "# Dataframe is ready for further visualization and Analysis in accordance to the objective of the project"
   ]
  },
  {
   "cell_type": "markdown",
   "metadata": {},
   "source": [
    "### Distribution of player by position for Man City and Liverpool\n"
   ]
  },
  {
   "cell_type": "code",
   "execution_count": 20,
   "metadata": {
    "scrolled": true
   },
   "outputs": [
    {
     "data": {
      "text/plain": [
       "<matplotlib.axes._subplots.AxesSubplot at 0x1c43d6a7eb8>"
      ]
     },
     "execution_count": 20,
     "metadata": {},
     "output_type": "execute_result"
    },
    {
     "data": {
      "image/png": "[encoded data removed]",
      "text/plain": [
       "<Figure size 432x288 with 1 Axes>"
      ]
     },
     "metadata": {
      "needs_background": "light"
     },
     "output_type": "display_data"
    }
   ],
   "source": [
    "sns.countplot(x='Position',data=df,hue='Club')"
   ]
  },
  {
   "cell_type": "markdown",
   "metadata": {},
   "source": [
    "# PHYSICAL ATTRIBUTE"
   ]
  },
  {
   "cell_type": "markdown",
   "metadata": {},
   "source": [
    "## Plotting the stamina distplot "
   ]
  },
  {
   "cell_type": "code",
   "execution_count": 21,
   "metadata": {},
   "outputs": [
    {
     "name": "stderr",
     "output_type": "stream",
     "text": [
      "C:\\Users\\Barun\\Anaconda3\\lib\\site-packages\\scipy\\stats\\stats.py:1713: FutureWarning: Using a non-tuple sequence for multidimensional indexing is deprecated; use `arr[tuple(seq)]` instead of `arr[seq]`. In the future this will be interpreted as an array index, `arr[np.array(seq)]`, which will result either in an error or a different result.\n",
      "  return np.add.reduce(sorted[indexer] * weights, axis=axis) / sumval\n"
     ]
    },
    {
     "data": {
      "text/plain": [
       "<seaborn.axisgrid.FacetGrid at 0x1c43d711198>"
      ]
     },
     "execution_count": 21,
     "metadata": {},
     "output_type": "execute_result"
    },
    {
     "data": {
      "image/png": "[encoded data removed]",
      "text/plain": [
       "<Figure size 648x432 with 6 Axes>"
      ]
     },
     "metadata": {
      "needs_background": "light"
     },
     "output_type": "display_data"
    }
   ],
   "source": [
    "g=sns.FacetGrid(data=df,col='Position',row='Club')\n",
    "g.map(sns.distplot,'BMI',kde=False)"
   ]
  },
  {
   "cell_type": "code",
   "execution_count": 22,
   "metadata": {},
   "outputs": [
    {
     "data": {
      "text/plain": [
       "<seaborn.axisgrid.FacetGrid at 0x1c43d625ba8>"
      ]
     },
     "execution_count": 22,
     "metadata": {},
     "output_type": "execute_result"
    },
    {
     "data": {
      "image/png": "[encoded data removed]",
      "text/plain": [
       "<Figure size 648x432 with 6 Axes>"
      ]
     },
     "metadata": {
      "needs_background": "light"
     },
     "output_type": "display_data"
    }
   ],
   "source": [
    "g=sns.FacetGrid(data=df,col='Position',row='Club')\n",
    "g.map(sns.distplot,'Stamina',kde=False)"
   ]
  },
  {
   "cell_type": "markdown",
   "metadata": {},
   "source": [
    "## Plotting the stamina vs BMI "
   ]
  },
  {
   "cell_type": "code",
   "execution_count": 23,
   "metadata": {},
   "outputs": [
    {
     "data": {
      "text/plain": [
       "<seaborn.axisgrid.FacetGrid at 0x1c43dee02e8>"
      ]
     },
     "execution_count": 23,
     "metadata": {},
     "output_type": "execute_result"
    },
    {
     "data": {
      "image/png": "[encoded data removed]",
      "text/plain": [
       "<Figure size 648x432 with 6 Axes>"
      ]
     },
     "metadata": {
      "needs_background": "light"
     },
     "output_type": "display_data"
    }
   ],
   "source": [
    "g=sns.FacetGrid(data=df,col='Position',row='Club')\n",
    "g.map(plt.scatter,'Stamina','BMI')"
   ]
  },
  {
   "cell_type": "markdown",
   "metadata": {},
   "source": [
    "## Conclusion : Physical Attribute\n",
    "#### BMI of almost all the players from  both the team is  in the healthy range of 18-25. It can be infered that players from both the teams have maintained their weight in accordance to their height.\n",
    "#### Stamina vs BMI  is too scattered to draw any sort of inference. "
   ]
  },
  {
   "cell_type": "markdown",
   "metadata": {},
   "source": [
    "# COST EFFECTIVENESS"
   ]
  },
  {
   "cell_type": "markdown",
   "metadata": {},
   "source": [
    "## Total money spent by both the clubs in wages"
   ]
  },
  {
   "cell_type": "code",
   "execution_count": 24,
   "metadata": {},
   "outputs": [
    {
     "data": {
      "text/plain": [
       "Club\n",
       "Liverpool    2902000.0\n",
       "Man City     3741000.0\n",
       "Name: Wage_Euro, dtype: float64"
      ]
     },
     "execution_count": 24,
     "metadata": {},
     "output_type": "execute_result"
    }
   ],
   "source": [
    "df.groupby('Club')['Wage_Euro'].sum()\n"
   ]
  },
  {
   "cell_type": "markdown",
   "metadata": {},
   "source": [
    "## Plotting boxplot to look at the wage distribution: Median, Max, Min and outlier if any"
   ]
  },
  {
   "cell_type": "code",
   "execution_count": 25,
   "metadata": {},
   "outputs": [
    {
     "data": {
      "text/plain": [
       "<matplotlib.axes._subplots.AxesSubplot at 0x1c43e2911d0>"
      ]
     },
     "execution_count": 25,
     "metadata": {},
     "output_type": "execute_result"
    },
    {
     "data": {
      "image/png": "[encoded data removed]",
      "text/plain": [
       "<Figure size 432x288 with 1 Axes>"
      ]
     },
     "metadata": {
      "needs_background": "light"
     },
     "output_type": "display_data"
    }
   ],
   "source": [
    "sns.boxplot(x='Club', y= 'Wage_Euro',data=df)"
   ]
  },
  {
   "cell_type": "markdown",
   "metadata": {},
   "source": [
    "## Barplot to look at  the mean of the wages"
   ]
  },
  {
   "cell_type": "code",
   "execution_count": 26,
   "metadata": {},
   "outputs": [
    {
     "data": {
      "text/plain": [
       "<matplotlib.axes._subplots.AxesSubplot at 0x1c43e4c6940>"
      ]
     },
     "execution_count": 26,
     "metadata": {},
     "output_type": "execute_result"
    },
    {
     "data": {
      "image/png": "[encoded data removed]",
      "text/plain": [
       "<Figure size 432x288 with 1 Axes>"
      ]
     },
     "metadata": {
      "needs_background": "light"
     },
     "output_type": "display_data"
    }
   ],
   "source": [
    "sns.barplot(x='Club',y='Wage_Euro',data=df)"
   ]
  },
  {
   "cell_type": "markdown",
   "metadata": {},
   "source": [
    "## Barplot to look at standard deviation in wage"
   ]
  },
  {
   "cell_type": "code",
   "execution_count": 27,
   "metadata": {},
   "outputs": [
    {
     "data": {
      "text/plain": [
       "<matplotlib.axes._subplots.AxesSubplot at 0x1c43e51a7f0>"
      ]
     },
     "execution_count": 27,
     "metadata": {},
     "output_type": "execute_result"
    },
    {
     "data": {
      "image/png": "[encoded data removed]",
      "text/plain": [
       "<Figure size 432x288 with 1 Axes>"
      ]
     },
     "metadata": {
      "needs_background": "light"
     },
     "output_type": "display_data"
    }
   ],
   "source": [
    "sns.barplot(x='Club',y='Wage_Euro',data=df,estimator=np.std)"
   ]
  },
  {
   "cell_type": "markdown",
   "metadata": {},
   "source": [
    "## Regression line: Overall Vs Wage"
   ]
  },
  {
   "cell_type": "code",
   "execution_count": 28,
   "metadata": {},
   "outputs": [
    {
     "data": {
      "text/plain": [
       "<seaborn.axisgrid.FacetGrid at 0x1c43e56a9e8>"
      ]
     },
     "execution_count": 28,
     "metadata": {},
     "output_type": "execute_result"
    },
    {
     "data": {
      "image/png": "[encoded data removed]",
      "text/plain": [
       "<Figure size 720x360 with 2 Axes>"
      ]
     },
     "metadata": {
      "needs_background": "light"
     },
     "output_type": "display_data"
    }
   ],
   "source": [
    "sns.lmplot(x='Overall',y='Wage_Euro',data=df,col='Club')"
   ]
  },
  {
   "cell_type": "markdown",
   "metadata": {},
   "source": [
    "## Conclusion : Cost effectiveness\n",
    "#### Man City and Liverpool finished very close in the points table with Man City winning the English Premier League with one point difference. Liverpool not only finished second in the league but went on to win the Champions League. \n",
    "#### Looking at the wage distribution in terms of mean, median, max, standard deviation along with total money spent it is quite clear that Man City have invested far more money than Liverpool. Man CIty winning the league justifies the money they have spent but on a larger scale it does not seems to be cost effective."
   ]
  },
  {
   "cell_type": "markdown",
   "metadata": {},
   "source": [
    "# HOME TALENT PROMOTION"
   ]
  },
  {
   "cell_type": "code",
   "execution_count": 29,
   "metadata": {},
   "outputs": [
    {
     "data": {
      "text/plain": [
       "Club       Nationality\n",
       "Liverpool  England        13\n",
       "           Brazil          3\n",
       "           Netherlands     3\n",
       "           Belgium         2\n",
       "           Spain           2\n",
       "           Cameroon        1\n",
       "           Croatia         1\n",
       "           Egypt           1\n",
       "           Guinea          1\n",
       "           Poland          1\n",
       "           Portugal        1\n",
       "           Scotland        1\n",
       "           Senegal         1\n",
       "           Serbia          1\n",
       "           Switzerland     1\n",
       "Man City   England         9\n",
       "           Brazil          4\n",
       "           France          4\n",
       "           Argentina       3\n",
       "           Spain           3\n",
       "           Belgium         2\n",
       "           Germany         2\n",
       "           Algeria         1\n",
       "           Chile           1\n",
       "           Montenegro      1\n",
       "           Netherlands     1\n",
       "           Portugal        1\n",
       "           Ukraine         1\n",
       "Name: Nationality, dtype: int64"
      ]
     },
     "execution_count": 29,
     "metadata": {},
     "output_type": "execute_result"
    }
   ],
   "source": [
    "df.groupby('Club')['Nationality'].value_counts()"
   ]
  },
  {
   "cell_type": "code",
   "execution_count": 30,
   "metadata": {},
   "outputs": [],
   "source": [
    "t=df[df['Nationality']=='England']\n",
    "p=df[df['Nationality']!='England']"
   ]
  },
  {
   "cell_type": "code",
   "execution_count": 31,
   "metadata": {},
   "outputs": [
    {
     "data": {
      "text/plain": [
       "Club       Nationality\n",
       "Liverpool  England        13\n",
       "Man City   England         9\n",
       "Name: Nationality, dtype: int64"
      ]
     },
     "execution_count": 31,
     "metadata": {},
     "output_type": "execute_result"
    }
   ],
   "source": [
    "T=t.groupby('Club')['Nationality'].value_counts()\n",
    "T"
   ]
  },
  {
   "cell_type": "code",
   "execution_count": 32,
   "metadata": {},
   "outputs": [
    {
     "data": {
      "text/plain": [
       "Club\n",
       "Liverpool    20\n",
       "Man City     24\n",
       "Name: Nationality, dtype: int64"
      ]
     },
     "execution_count": 32,
     "metadata": {},
     "output_type": "execute_result"
    }
   ],
   "source": [
    "P= p.groupby('Club')['Nationality'].value_counts()\n",
    "Q=P.groupby('Club').sum()\n",
    "Q"
   ]
  },
  {
   "cell_type": "code",
   "execution_count": 33,
   "metadata": {},
   "outputs": [
    {
     "data": {
      "text/plain": [
       "Nationality\n",
       "England    0.310345\n",
       "Name: Nationality, dtype: float64"
      ]
     },
     "execution_count": 33,
     "metadata": {},
     "output_type": "execute_result"
    }
   ],
   "source": [
    "H_ManCity= T['Man City']/(T['Man City']+Q['Liverpool'])\n",
    "H_ManCity"
   ]
  },
  {
   "cell_type": "code",
   "execution_count": 34,
   "metadata": {},
   "outputs": [
    {
     "data": {
      "text/plain": [
       "Nationality\n",
       "England    0.393939\n",
       "Name: Nationality, dtype: float64"
      ]
     },
     "execution_count": 34,
     "metadata": {},
     "output_type": "execute_result"
    }
   ],
   "source": [
    "H_Liverpool= T['Liverpool']/(T['Liverpool']+Q['Liverpool'])\n",
    "H_Liverpool"
   ]
  },
  {
   "cell_type": "markdown",
   "metadata": {},
   "source": [
    "## Conclusion : Home talent promotion"
   ]
  },
  {
   "cell_type": "markdown",
   "metadata": {},
   "source": [
    "#### Based on the above ratio, it is clear that Liverpool has groomed more players for its English National Team."
   ]
  },
  {
   "cell_type": "markdown",
   "metadata": {},
   "source": [
    "# PLAYING ATTRIBUTE"
   ]
  },
  {
   "cell_type": "markdown",
   "metadata": {},
   "source": [
    "### Regression plot to see relationship between Composure and poistioning"
   ]
  },
  {
   "cell_type": "code",
   "execution_count": 35,
   "metadata": {},
   "outputs": [
    {
     "data": {
      "text/plain": [
       "<seaborn.axisgrid.FacetGrid at 0x1c43e6512e8>"
      ]
     },
     "execution_count": 35,
     "metadata": {},
     "output_type": "execute_result"
    },
    {
     "data": {
      "image/png": "[encoded data removed]",
      "text/plain": [
       "<Figure size 720x360 with 2 Axes>"
      ]
     },
     "metadata": {
      "needs_background": "light"
     },
     "output_type": "display_data"
    }
   ],
   "source": [
    "sns.lmplot(x='Positioning',y='Composure',data=df,col='Club')"
   ]
  },
  {
   "cell_type": "markdown",
   "metadata": {},
   "source": [
    "### Composure median"
   ]
  },
  {
   "cell_type": "code",
   "execution_count": 36,
   "metadata": {},
   "outputs": [
    {
     "data": {
      "text/plain": [
       "<matplotlib.axes._subplots.AxesSubplot at 0x1c43ec9d5c0>"
      ]
     },
     "execution_count": 36,
     "metadata": {},
     "output_type": "execute_result"
    },
    {
     "data": {
      "image/png": "[encoded data removed]",
      "text/plain": [
       "<Figure size 432x288 with 1 Axes>"
      ]
     },
     "metadata": {
      "needs_background": "light"
     },
     "output_type": "display_data"
    }
   ],
   "source": [
    "sns.barplot(x='Club', y= 'Composure',data=df,estimator=np.median)"
   ]
  },
  {
   "cell_type": "markdown",
   "metadata": {},
   "source": [
    "### Univariate Analysis of Positioning"
   ]
  },
  {
   "cell_type": "code",
   "execution_count": 37,
   "metadata": {},
   "outputs": [
    {
     "data": {
      "text/plain": [
       "<seaborn.axisgrid.FacetGrid at 0x1c43ecc4e80>"
      ]
     },
     "execution_count": 37,
     "metadata": {},
     "output_type": "execute_result"
    },
    {
     "data": {
      "image/png": "[encoded data removed]",
      "text/plain": [
       "<Figure size 648x432 with 6 Axes>"
      ]
     },
     "metadata": {
      "needs_background": "light"
     },
     "output_type": "display_data"
    }
   ],
   "source": [
    "g=sns.FacetGrid(data=df,col='Position',row='Club')\n",
    "g.map(sns.distplot,'Positioning',kde=False)"
   ]
  },
  {
   "cell_type": "code",
   "execution_count": 38,
   "metadata": {},
   "outputs": [
    {
     "data": {
      "text/plain": [
       "<seaborn.axisgrid.FacetGrid at 0x1c43ecabdd8>"
      ]
     },
     "execution_count": 38,
     "metadata": {},
     "output_type": "execute_result"
    },
    {
     "data": {
      "image/png": "[encoded data removed]",
      "text/plain": [
       "<Figure size 648x432 with 6 Axes>"
      ]
     },
     "metadata": {
      "needs_background": "light"
     },
     "output_type": "display_data"
    }
   ],
   "source": [
    "g=sns.FacetGrid(data=df,col='Position',row='Club')\n",
    "g.map(plt.scatter,'Positioning','Composure')"
   ]
  },
  {
   "cell_type": "code",
   "execution_count": 39,
   "metadata": {},
   "outputs": [
    {
     "data": {
      "text/plain": [
       "0.6784310146265757"
      ]
     },
     "execution_count": 39,
     "metadata": {},
     "output_type": "execute_result"
    }
   ],
   "source": [
    "df['Composure'].corr(df['Positioning'])"
   ]
  },
  {
   "cell_type": "markdown",
   "metadata": {},
   "source": [
    "### Conclusion : Playing Attribute\n",
    "#### Playing attribute viz. Composure and Positioning is roughly same for both the teams. There is not much difference between in the distribution of the two attributes under study.\n"
   ]
  }
 ],
 "metadata": {
  "kernelspec": {
   "display_name": "Python 3",
   "language": "python",
   "name": "python3"
  },
  "language_info": {
   "codemirror_mode": {
    "name": "ipython",
    "version": 3
   },
   "file_extension": ".py",
   "mimetype": "text/x-python",
   "name": "python",
   "nbconvert_exporter": "python",
   "pygments_lexer": "ipython3",
   "version": "3.7.1"
  }
 },
 "nbformat": 4,
 "nbformat_minor": 2
}
